{
 "cells": [
  {
   "cell_type": "code",
   "execution_count": 1,
   "metadata": {
    "id": "MElXeE7IbV3g"
   },
   "outputs": [],
   "source": [
    "import gdal\n",
    "import numpy as np \n",
    "import pandas as pd\n",
    "import scipy\n",
    "import matplotlib.pyplot as plt\n",
    "import seaborn as sns\n",
    "from sklearn.ensemble import RandomForestClassifier\n",
    "from sklearn.model_selection import train_test_split\n",
    "from sklearn.preprocessing import LabelEncoder\n",
    "from sklearn.metrics import classification_report\n",
    "from sklearn.metrics import confusion_matrix"
   ]
  },
  {
   "cell_type": "code",
   "execution_count": 2,
   "metadata": {
    "colab": {
     "base_uri": "https://localhost:8080/"
    },
    "id": "Bvr_Rch6bj-M",
    "outputId": "70e3b6ab-c0f5-400e-db3d-bfdf10f46db1"
   },
   "outputs": [
    {
     "name": "stdout",
     "output_type": "stream",
     "text": [
      "2615 3537\n",
      "3\n"
     ]
    }
   ],
   "source": [
    "Rasterimage = '/content/drive/MyDrive/Dataset/for testing purpose.tif' \n",
    "outRaster = '/content/drive/MyDrive/Dataset/output.tif'\n",
    "df = pd.read_csv('/content/drive/MyDrive/Dataset/Checking truth.csv',)\n",
    "df_data= pd.read_csv('/content/drive/MyDrive/Dataset/Truth_data.csv', sep=';')\n",
    "\n",
    "ds = gdal.Open(Rasterimage, gdal.GA_ReadOnly)\n",
    "rows = ds.RasterYSize\n",
    "cols = ds.RasterXSize\n",
    "bands = ds.RasterCount\n",
    "geo_transform = ds.GetGeoTransform()\n",
    "projection = ds.GetProjectionRef()\n",
    "print(rows,cols)\n",
    "print(bands)"
   ]
  },
  {
   "cell_type": "code",
   "execution_count": 3,
   "metadata": {
    "id": "_jbP_yEidCB8"
   },
   "outputs": [],
   "source": [
    "array = ds.ReadAsArray()"
   ]
  },
  {
   "cell_type": "code",
   "execution_count": 4,
   "metadata": {
    "id": "ouIm219yfUC9"
   },
   "outputs": [],
   "source": [
    "array = np.stack(array,axis=2)\n",
    "array = np.reshape(array, [rows*cols,bands])\n",
    "test = pd.DataFrame(array, dtype='int16')"
   ]
  },
  {
   "cell_type": "code",
   "execution_count": 5,
   "metadata": {
    "id": "jmCyCkB3zv0G"
   },
   "outputs": [],
   "source": [
    "df['labels']= df_data.values"
   ]
  },
  {
   "cell_type": "code",
   "execution_count": 6,
   "metadata": {
    "colab": {
     "base_uri": "https://localhost:8080/"
    },
    "id": "VJI72c_NbJwW",
    "outputId": "fafe9070-3170-41ff-cf40-cc341e52ab2a"
   },
   "outputs": [
    {
     "data": {
      "text/plain": [
       "Banana         700\n",
       "Fresh Field    700\n",
       "Harvested      700\n",
       "Name: labels, dtype: int64"
      ]
     },
     "execution_count": 6,
     "metadata": {
      "tags": []
     },
     "output_type": "execute_result"
    }
   ],
   "source": [
    "df['labels'].value_counts()"
   ]
  },
  {
   "cell_type": "code",
   "execution_count": 7,
   "metadata": {
    "id": "nkgZqJRcczws"
   },
   "outputs": [],
   "source": [
    "data= df.drop(['labels','fid'],axis=1)\n",
    "label= df['labels']"
   ]
  },
  {
   "cell_type": "code",
   "execution_count": 8,
   "metadata": {
    "id": "vFhZUGV-djAd"
   },
   "outputs": [],
   "source": [
    "le= LabelEncoder()\n",
    "label= le.fit_transform(label)"
   ]
  },
  {
   "cell_type": "code",
   "execution_count": 9,
   "metadata": {
    "id": "DHVtd2AUm-bO"
   },
   "outputs": [],
   "source": [
    "X_train,X_test,y_train,y_test= train_test_split(data,label,test_size=0.1,random_state=0)"
   ]
  },
  {
   "cell_type": "code",
   "execution_count": 10,
   "metadata": {
    "id": "pvlkGA5Gj6FL"
   },
   "outputs": [],
   "source": [
    "def check_shape(df):\n",
    "  rows,columns= df.shape\n",
    "  print('Total number of rows',rows)\n",
    "  print('Total number of Columns',columns)"
   ]
  },
  {
   "cell_type": "code",
   "execution_count": 11,
   "metadata": {
    "colab": {
     "base_uri": "https://localhost:8080/"
    },
    "id": "r9hIYx1UkPj0",
    "outputId": "dfddaf0c-16dd-4fab-f55f-c2f3300f41dd"
   },
   "outputs": [
    {
     "name": "stdout",
     "output_type": "stream",
     "text": [
      "Shape of training set\n",
      "Total number of rows 1890\n",
      "Total number of Columns 3\n",
      "shape of testing set\n",
      "Total number of rows 210\n",
      "Total number of Columns 3\n"
     ]
    }
   ],
   "source": [
    "print('Shape of training set')\n",
    "check_shape(X_train)\n",
    "print('shape of testing set')\n",
    "check_shape(X_test)"
   ]
  },
  {
   "cell_type": "code",
   "execution_count": 12,
   "metadata": {
    "colab": {
     "base_uri": "https://localhost:8080/"
    },
    "id": "f69BY5-Vmsx6",
    "outputId": "e8ab1357-33eb-4251-fad2-f327c808dfb0"
   },
   "outputs": [
    {
     "data": {
      "text/plain": [
       "RandomForestClassifier(bootstrap=True, ccp_alpha=0.0, class_weight=None,\n",
       "                       criterion='gini', max_depth=None, max_features='auto',\n",
       "                       max_leaf_nodes=None, max_samples=None,\n",
       "                       min_impurity_decrease=0.0, min_impurity_split=None,\n",
       "                       min_samples_leaf=1, min_samples_split=2,\n",
       "                       min_weight_fraction_leaf=0.0, n_estimators=100,\n",
       "                       n_jobs=None, oob_score=False, random_state=None,\n",
       "                       verbose=0, warm_start=False)"
      ]
     },
     "execution_count": 12,
     "metadata": {
      "tags": []
     },
     "output_type": "execute_result"
    }
   ],
   "source": [
    "clf = RandomForestClassifier()\n",
    "clf.fit(X_train,y_train)"
   ]
  },
  {
   "cell_type": "code",
   "execution_count": 13,
   "metadata": {
    "colab": {
     "base_uri": "https://localhost:8080/"
    },
    "id": "MbeufhjgmF8Z",
    "outputId": "7ae141f8-5eec-4384-ef93-24049ab35505"
   },
   "outputs": [
    {
     "data": {
      "text/plain": [
       "0.9941798941798942"
      ]
     },
     "execution_count": 13,
     "metadata": {
      "tags": []
     },
     "output_type": "execute_result"
    }
   ],
   "source": [
    "clf.score(X_train,y_train)"
   ]
  },
  {
   "cell_type": "code",
   "execution_count": 14,
   "metadata": {
    "colab": {
     "base_uri": "https://localhost:8080/"
    },
    "id": "p2jXGD1ImOtS",
    "outputId": "34d6853b-a3ec-45e0-96b3-6d310637eef2"
   },
   "outputs": [
    {
     "data": {
      "text/plain": [
       "0.9523809523809523"
      ]
     },
     "execution_count": 14,
     "metadata": {
      "tags": []
     },
     "output_type": "execute_result"
    }
   ],
   "source": [
    "clf.score(X_test,y_test)"
   ]
  },
  {
   "cell_type": "code",
   "execution_count": 15,
   "metadata": {
    "id": "w9FNZjJJoLBT"
   },
   "outputs": [],
   "source": [
    "y_pred = clf.predict(X_test)"
   ]
  },
  {
   "cell_type": "code",
   "execution_count": 16,
   "metadata": {
    "colab": {
     "base_uri": "https://localhost:8080/"
    },
    "id": "_rZDR4Mjmotp",
    "outputId": "8d6c12ba-7e7d-467d-8180-4f088894d22c"
   },
   "outputs": [
    {
     "name": "stdout",
     "output_type": "stream",
     "text": [
      "              precision    recall  f1-score   support\n",
      "\n",
      "           0       1.00      1.00      1.00        75\n",
      "           1       0.91      0.96      0.93        70\n",
      "           2       0.95      0.89      0.92        65\n",
      "\n",
      "    accuracy                           0.95       210\n",
      "   macro avg       0.95      0.95      0.95       210\n",
      "weighted avg       0.95      0.95      0.95       210\n",
      "\n"
     ]
    }
   ],
   "source": [
    "classi_fication= classification_report(y_test,y_pred)\n",
    "print(classi_fication)"
   ]
  },
  {
   "cell_type": "code",
   "execution_count": 17,
   "metadata": {
    "colab": {
     "base_uri": "https://localhost:8080/"
    },
    "id": "0vXUxlGUm5eI",
    "outputId": "0ecf741f-78d6-4e8b-91a6-1d657e14ba4d"
   },
   "outputs": [
    {
     "name": "stdout",
     "output_type": "stream",
     "text": [
      "[[75  0  0]\n",
      " [ 0 67  3]\n",
      " [ 0  7 58]]\n"
     ]
    }
   ],
   "source": [
    "confusion= confusion_matrix(y_test,y_pred)\n",
    "print(confusion)"
   ]
  },
  {
   "cell_type": "code",
   "execution_count": 18,
   "metadata": {
    "colab": {
     "base_uri": "https://localhost:8080/",
     "height": 483
    },
    "id": "IkrfHBdrnNXP",
    "outputId": "a0b70e0e-8240-45bc-e804-4c2bd3f30699"
   },
   "outputs": [
    {
     "data": {
      "image/png": "[encoded data removed]",
      "text/plain": [
       "<Figure size 1080x576 with 2 Axes>"
      ]
     },
     "metadata": {
      "needs_background": "light",
      "tags": []
     },
     "output_type": "display_data"
    }
   ],
   "source": [
    "plt.figure(figsize=(15,8))\n",
    "sns.heatmap(confusion,annot=True,cmap='rainbow');"
   ]
  },
  {
   "cell_type": "code",
   "execution_count": 19,
   "metadata": {
    "colab": {
     "base_uri": "https://localhost:8080/"
    },
    "id": "vB5TGH1eqYij",
    "outputId": "f3ee1bf7-fe16-4a0d-fd84-e610626c65fc"
   },
   "outputs": [
    {
     "data": {
      "text/plain": [
       "array(['Banana', 'Fresh Field', 'Harvested'], dtype=object)"
      ]
     },
     "execution_count": 19,
     "metadata": {
      "tags": []
     },
     "output_type": "execute_result"
    }
   ],
   "source": [
    "le.classes_"
   ]
  },
  {
   "cell_type": "code",
   "execution_count": 20,
   "metadata": {
    "id": "bqxrqKgDqaWI"
   },
   "outputs": [],
   "source": [
    "real_prediction= clf.predict(test)"
   ]
  },
  {
   "cell_type": "code",
   "execution_count": 21,
   "metadata": {
    "id": "nIQAlXier74o"
   },
   "outputs": [],
   "source": [
    "classification = real_prediction.reshape((rows,cols))"
   ]
  },
  {
   "cell_type": "code",
   "execution_count": 22,
   "metadata": {
    "colab": {
     "base_uri": "https://localhost:8080/"
    },
    "id": "gO24kJm3uMWs",
    "outputId": "9aa053b8-692b-44c9-b539-43c5254e548c"
   },
   "outputs": [
    {
     "data": {
      "text/plain": [
       "array([[0, 0, 0, ..., 1, 1, 1],\n",
       "       [0, 0, 0, ..., 2, 1, 1],\n",
       "       [0, 0, 0, ..., 2, 1, 1],\n",
       "       ...,\n",
       "       [1, 1, 1, ..., 0, 0, 0],\n",
       "       [1, 1, 1, ..., 0, 0, 0],\n",
       "       [2, 2, 2, ..., 0, 0, 0]])"
      ]
     },
     "execution_count": 22,
     "metadata": {
      "tags": []
     },
     "output_type": "execute_result"
    }
   ],
   "source": [
    "classification"
   ]
  },
  {
   "cell_type": "code",
   "execution_count": 23,
   "metadata": {
    "id": "DI8MANHssQdf"
   },
   "outputs": [],
   "source": [
    "def createGeotiff(outRaster, data, geo_transform, projection):\n",
    "   \n",
    "    driver = gdal.GetDriverByName('GTiff')\n",
    "    rows, cols = data.shape\n",
    "    rasterDS = driver.Create(outRaster, cols, rows, 1, gdal.GDT_Int32)\n",
    "    rasterDS.SetGeoTransform(geo_transform)\n",
    "    rasterDS.SetProjection(projection)\n",
    "    band = rasterDS.GetRasterBand(1)\n",
    "    band.WriteArray(data)\n",
    "    rasterDS = None\n"
   ]
  },
  {
   "cell_type": "code",
   "execution_count": 25,
   "metadata": {
    "id": "S4r6dF7ksj2x"
   },
   "outputs": [],
   "source": [
    "createGeotiff(outRaster,classification,geo_transform,projection)"
   ]
  },
  {
   "cell_type": "code",
   "execution_count": 24,
   "metadata": {
    "id": "ihdeIKikslDO"
   },
   "outputs": [],
   "source": []
  }
 ],
 "metadata": {
  "accelerator": "GPU",
  "colab": {
   "name": "Random Forest.ipynb",
   "provenance": []
  },
  "kernelspec": {
   "display_name": "Python 3",
   "language": "python",
   "name": "python3"
  },
  "language_info": {
   "codemirror_mode": {
    "name": "ipython",
    "version": 3
   },
   "file_extension": ".py",
   "mimetype": "text/x-python",
   "name": "python",
   "nbconvert_exporter": "python",
   "pygments_lexer": "ipython3",
   "version": "3.8.5"
  }
 },
 "nbformat": 4,
 "nbformat_minor": 1
}
